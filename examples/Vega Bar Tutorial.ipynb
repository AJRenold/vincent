{
 "metadata": {
  "name": "Vega Bar Tutorial"
 },
 "nbformat": 3,
 "nbformat_minor": 0,
 "worksheets": [
  {
   "cells": [
    {
     "cell_type": "code",
     "collapsed": false,
     "input": [
      "from vincent import *"
     ],
     "language": "python",
     "metadata": {},
     "outputs": [],
     "prompt_number": 47
    },
    {
     "cell_type": "heading",
     "level": 2,
     "metadata": {},
     "source": [
      "Visualization"
     ]
    },
    {
     "cell_type": "markdown",
     "metadata": {},
     "source": [
      "The top-most element of Vega JSON documents is implemented by the `Visualization` class. Visualizations contain all information for rendering a complete document. \n",
      "\n",
      "We'll start by creating a new `Visualization`."
     ]
    },
    {
     "cell_type": "code",
     "collapsed": false,
     "input": [
      "vis = Visualization(width=400, height=200)"
     ],
     "language": "python",
     "metadata": {},
     "outputs": [],
     "prompt_number": 48
    },
    {
     "cell_type": "markdown",
     "metadata": {},
     "source": [
      "The keywords `width` and `height` are Vega document keys. All valid Vega keys can be specified as keywords in the class constructors. The keys are implemented as class properties - complete with doc strings - and can be explored via help (and tab-completion in ipython)."
     ]
    },
    {
     "cell_type": "code",
     "collapsed": false,
     "input": [
      "help(Visualization)"
     ],
     "language": "python",
     "metadata": {},
     "outputs": [
      {
       "output_type": "stream",
       "stream": "stdout",
       "text": [
        "Help on class Visualization in module vincent.vega:\n",
        "\n",
        "class Visualization(FieldClass)\n",
        " |  Visualization container class.\n",
        " |  \n",
        " |  This class defines the full visualization. Calling its ``to_json``\n",
        " |  method should return a complete Vega definition.\n",
        " |  \n",
        " |  The sub-elements of the visualization are stored in the ``data``,\n",
        " |  ``axes``, ``marks``, and ``scales`` attributes. See the docs for each\n",
        " |  attribute for details.\n",
        " |  \n",
        " |  Method resolution order:\n",
        " |      Visualization\n",
        " |      FieldClass\n",
        " |      __builtin__.object\n",
        " |  \n",
        " |  Methods defined here:\n",
        " |  \n",
        " |  __init__(self, *args, **kwargs)\n",
        " |      Initialize a Visualization\n",
        " |      \n",
        " |      In addition to setting any attributes, this sets the data, marks,\n",
        " |      scales, and axes properties to empty KeyedLists if they aren't\n",
        " |      defined by the arguments.\n",
        " |  \n",
        " |  display(self)\n",
        " |      Display visualization inline in IPython notebook\n",
        " |  \n",
        " |  validate(self, require_all_fields=True)\n",
        " |      Validate the visualization contents.\n",
        " |      \n",
        " |      Parameters\n",
        " |      ----------\n",
        " |      require_all_fields : boolean\n",
        " |          If True (default), then all fields ``data``, ``scales``,\n",
        " |          ``axes``, and ``marks`` must be defined. The user is allowed to\n",
        " |          disable this if the intent is to define the elements\n",
        " |          client-side.\n",
        " |      \n",
        " |      If the contents of the visualization are not valid Vega, then a\n",
        " |      :class:`ValidationError` is raised.\n",
        " |  \n",
        " |  ----------------------------------------------------------------------\n",
        " |  Data descriptors defined here:\n",
        " |  \n",
        " |  axes\n",
        " |      list or KeyedList of ``Axis`` : Axis definitions\n",
        " |      \n",
        " |      Axes define the locations of the data being mapped by the scales.\n",
        " |      See the :class:`Axis` class for details.\n",
        " |  \n",
        " |  data\n",
        " |      list or KeyedList of ``Data`` : Data definitions\n",
        " |      \n",
        " |      This defines the data being visualized. See the :class:`Data` class\n",
        " |      for details.\n",
        " |  \n",
        " |  height\n",
        " |      int : Height of the visualization in pixels\n",
        " |      \n",
        " |      Default is 500 if undefined.\n",
        " |  \n",
        " |  marks\n",
        " |      list or KeyedList of ``Mark`` : Mark definitions\n",
        " |      \n",
        " |      Marks are the visual objects (such as lines, bars, etc.) that\n",
        " |      represent the data in the visualization space. See the :class:`Mark`\n",
        " |      class for details.\n",
        " |  \n",
        " |  name\n",
        " |      string : Name of the visualization (optional)\n",
        " |  \n",
        " |  padding\n",
        " |      int or dict : Padding around visualization\n",
        " |      \n",
        " |      The padding defines the distance between the edge of the\n",
        " |      visualization canvas to the visualization box. It does not count as\n",
        " |      part of the visualization width/height. Values cannot be negative.\n",
        " |      \n",
        " |      If a dict, padding must have all keys ``''top'``, ``'left'``,\n",
        " |      ``'right'``, and ``'bottom'`` with int values.\n",
        " |  \n",
        " |  scales\n",
        " |      list or KeyedList of ``Scale`` : Scale definitions\n",
        " |      \n",
        " |      Scales map the data from the domain of the data to some\n",
        " |      visualization space (such as an x-axis). See the :class:`Scale`\n",
        " |      class for details.\n",
        " |  \n",
        " |  viewport\n",
        " |      2-element list of ints : Dimensions of the viewport\n",
        " |      \n",
        " |      The viewport is a bounding box containing the visualization. If the\n",
        " |      dimensions of the visualization are larger than the viewport, then\n",
        " |      the visualization will be scrollable.\n",
        " |      \n",
        " |      If undefined, then the full visualization is shown.\n",
        " |  \n",
        " |  width\n",
        " |      int : Width of the visualization in pixels\n",
        " |      \n",
        " |      Default is 500 if undefined.\n",
        " |  \n",
        " |  ----------------------------------------------------------------------\n",
        " |  Methods inherited from FieldClass:\n",
        " |  \n",
        " |  from_json(self)\n",
        " |      Load object from JSON\n",
        " |      \n",
        " |      Not yet implemented.\n",
        " |  \n",
        " |  to_json(self, validate=False, pretty_print=True)\n",
        " |      Convert object to JSON\n",
        " |      \n",
        " |      Parameters\n",
        " |      ----------\n",
        " |      validate : boolean\n",
        " |          If True, call the object's `validate` method before\n",
        " |          serializing. Default is False.\n",
        " |      pretty_print : boolean\n",
        " |          If True (default), JSON is printed in more-readable form with\n",
        " |          indentation and spaces.\n",
        " |      \n",
        " |      Returns\n",
        " |      -------\n",
        " |      string\n",
        " |          JSON serialization of the class's field properties.\n",
        " |  \n",
        " |  ----------------------------------------------------------------------\n",
        " |  Data descriptors inherited from FieldClass:\n",
        " |  \n",
        " |  __dict__\n",
        " |      dictionary for instance variables (if defined)\n",
        " |  \n",
        " |  __weakref__\n",
        " |      list of weak references to the object (if defined)\n",
        "\n"
       ]
      }
     ],
     "prompt_number": 49
    },
    {
     "cell_type": "markdown",
     "metadata": {},
     "source": [
      "This will already dump some JSON, but there isn't enough yet to define a valid Vega document:"
     ]
    },
    {
     "cell_type": "code",
     "collapsed": false,
     "input": [
      "print(vis.to_json())"
     ],
     "language": "python",
     "metadata": {},
     "outputs": [
      {
       "output_type": "stream",
       "stream": "stdout",
       "text": [
        "{\n",
        "  \"scales\": [],\n",
        "  \"axes\": [],\n",
        "  \"height\": 200,\n",
        "  \"width\": 400,\n",
        "  \"marks\": [],\n",
        "  \"data\": []\n",
        "}\n"
       ]
      }
     ],
     "prompt_number": 50
    },
    {
     "cell_type": "markdown",
     "metadata": {},
     "source": [
      "Vincent only creates JSON data for keys that have been explicitly defined. For example, though the property `padding` already exists,"
     ]
    },
    {
     "cell_type": "code",
     "collapsed": false,
     "input": [
      "hasattr(vis, 'padding')"
     ],
     "language": "python",
     "metadata": {},
     "outputs": [
      {
       "output_type": "pyout",
       "prompt_number": 51,
       "text": [
        "True"
       ]
      }
     ],
     "prompt_number": 51
    },
    {
     "cell_type": "markdown",
     "metadata": {},
     "source": [
      "it doesn't show up in the JSON output until it's been assigned. Similarly, Vega properties that *have* been assigned can also be deleted, which will prevent them from appearing in the encoded JSON. For example,"
     ]
    },
    {
     "cell_type": "code",
     "collapsed": false,
     "input": [
      "del vis.width\n",
      "print(vis.to_json())"
     ],
     "language": "python",
     "metadata": {},
     "outputs": [
      {
       "output_type": "stream",
       "stream": "stdout",
       "text": [
        "{\n",
        "  \"scales\": [],\n",
        "  \"axes\": [],\n",
        "  \"height\": 200,\n",
        "  \"marks\": [],\n",
        "  \"data\": []\n",
        "}\n"
       ]
      }
     ],
     "prompt_number": 52
    },
    {
     "cell_type": "markdown",
     "metadata": {},
     "source": [
      "has removed `\"width\"` from the returned JSON. We'd like our width defined though, so let's put it back.\n"
     ]
    },
    {
     "cell_type": "code",
     "collapsed": false,
     "input": [
      "vis.width = 400"
     ],
     "language": "python",
     "metadata": {},
     "outputs": [],
     "prompt_number": 53
    },
    {
     "cell_type": "markdown",
     "metadata": {},
     "source": [
      "We can add margins around the edges by setting the `padding` property to a 4-element dict:"
     ]
    },
    {
     "cell_type": "code",
     "collapsed": false,
     "input": [
      "vis.padding = {'top': 10, 'left': 30, 'bottom': 20, 'right': 10}\n",
      "print(vis.to_json())"
     ],
     "language": "python",
     "metadata": {},
     "outputs": [
      {
       "output_type": "stream",
       "stream": "stdout",
       "text": [
        "{\n",
        "  \"scales\": [],\n",
        "  \"axes\": [],\n",
        "  \"height\": 200,\n",
        "  \"padding\": {\n",
        "    \"top\": 10,\n",
        "    \"bottom\": 20,\n",
        "    \"right\": 10,\n",
        "    \"left\": 30\n",
        "  },\n",
        "  \"width\": 400,\n",
        "  \"marks\": [],\n",
        "  \"data\": []\n",
        "}\n"
       ]
      }
     ],
     "prompt_number": 54
    },
    {
     "cell_type": "markdown",
     "metadata": {},
     "source": [
      "Because valid JSON does not make valid Vega, Vincent tries to prevent us from generating documents that won't render figures in the client (usually the browser). For example, setting the `padding` property with an invalid `'above'` key raises a `ValueError`."
     ]
    },
    {
     "cell_type": "code",
     "collapsed": false,
     "input": [
      "try:\n",
      "    vis.padding = {'above': 10, 'left': 30, 'bottom': 20, 'right': 10}\n",
      "except ValueError as e:\n",
      "    print(e)"
     ],
     "language": "python",
     "metadata": {},
     "outputs": [
      {
       "output_type": "stream",
       "stream": "stdout",
       "text": [
        "padding must have keys \"top\", \"left\", \"right\", \"bottom\"\n"
       ]
      }
     ],
     "prompt_number": 55
    },
    {
     "cell_type": "markdown",
     "metadata": {},
     "source": [
      "Vincent always raises `ValueError` if it thinks a property assignment isn't valid Vega. Otherwise we might spend quite some time debugging our documents in the client.\n",
      "\n",
      "Next we'll look at defining document data."
     ]
    },
    {
     "cell_type": "heading",
     "level": 2,
     "metadata": {},
     "source": [
      "Data"
     ]
    },
    {
     "cell_type": "markdown",
     "metadata": {},
     "source": [
      "Data in Vega is defined in tabular form. Though it's certainly possible to set the data manually, it's much easier to use the class methods `Data.from_iters`, `Data.from_pandas`, and `Data.from_numpy`."
     ]
    },
    {
     "cell_type": "code",
     "collapsed": false,
     "input": [
      "mydata = Data.from_mult_iters(x=['A', 'B', 'C', 'D', 'E', 'F', 'G', 'H', 'I'], y=[28, 55, 43, 91, 81, 53, 19, 87, 52], idx='x')\n",
      "print(mydata.to_json(pretty_print=False))"
     ],
     "language": "python",
     "metadata": {},
     "outputs": [
      {
       "output_type": "stream",
       "stream": "stdout",
       "text": [
        "{\"values\": [{\"y\": 28, \"x\": \"A\"}, {\"y\": 55, \"x\": \"B\"}, {\"y\": 43, \"x\": \"C\"}, {\"y\": 91, \"x\": \"D\"}, {\"y\": 81, \"x\": \"E\"}, {\"y\": 53, \"x\": \"F\"}, {\"y\": 19, \"x\": \"G\"}, {\"y\": 87, \"x\": \"H\"}, {\"y\": 52, \"x\": \"I\"}], \"name\": \"table\"}\n"
       ]
      }
     ],
     "prompt_number": 56
    },
    {
     "cell_type": "markdown",
     "metadata": {},
     "source": [
      "Note that in Vega, all data must have a name. Vincent will set the data name to `'table'` if it isn't provided.\n",
      "\n",
      "Let's add this data to our visualization:"
     ]
    },
    {
     "cell_type": "code",
     "collapsed": false,
     "input": [
      "vis.data.append(mydata)"
     ],
     "language": "python",
     "metadata": {},
     "outputs": [],
     "prompt_number": 57
    },
    {
     "cell_type": "markdown",
     "metadata": {},
     "source": [
      "The data in the Vega JSON document is an array, allowing us to define multiple data sets in one document. The data elements (as well as scales and axes) can be accessed by their location,"
     ]
    },
    {
     "cell_type": "code",
     "collapsed": false,
     "input": [
      "vis.data[0].values[0]"
     ],
     "language": "python",
     "metadata": {},
     "outputs": [
      {
       "output_type": "pyout",
       "prompt_number": 58,
       "text": [
        "{'x': 'A', 'y': 28}"
       ]
      }
     ],
     "prompt_number": 58
    },
    {
     "cell_type": "markdown",
     "metadata": {},
     "source": [
      "or by their name,"
     ]
    },
    {
     "cell_type": "code",
     "collapsed": false,
     "input": [
      "vis.data['table'].values[0]"
     ],
     "language": "python",
     "metadata": {},
     "outputs": [
      {
       "output_type": "pyout",
       "prompt_number": 59,
       "text": [
        "{'x': 'A', 'y': 28}"
       ]
      }
     ],
     "prompt_number": 59
    },
    {
     "cell_type": "markdown",
     "metadata": {},
     "source": [
      "Assignments by name are also possible."
     ]
    },
    {
     "cell_type": "code",
     "collapsed": false,
     "input": [
      "vis.data['table'] = mydata"
     ],
     "language": "python",
     "metadata": {},
     "outputs": [],
     "prompt_number": 60
    },
    {
     "cell_type": "markdown",
     "metadata": {},
     "source": [
      "In this case the key of the data (`'table'`) must match the `name` property of the assigned object, or a `ValidationError` is raised. Data can also point to an external source by setting the `url` property. See the Vega documentation for more info.\n",
      "\n",
      "Let's add some scales to our visualization."
     ]
    },
    {
     "cell_type": "heading",
     "level": 2,
     "metadata": {},
     "source": [
      "Scales"
     ]
    },
    {
     "cell_type": "markdown",
     "metadata": {},
     "source": [
      "Scales map the data from the space of the data (the domain of the scale) to the space of the visualization (the range of the scale). These are defined using the `Scale` class."
     ]
    },
    {
     "cell_type": "code",
     "collapsed": false,
     "input": [
      "vis.scales['x'] = Scale(name='x', type='ordinal', range='width')"
     ],
     "language": "python",
     "metadata": {},
     "outputs": [],
     "prompt_number": 61
    },
    {
     "cell_type": "markdown",
     "metadata": {},
     "source": [
      "The domain of the scales is usually defined by referencing a field of the data. These reference are defined by the `DataRef` class."
     ]
    },
    {
     "cell_type": "code",
     "collapsed": false,
     "input": [
      "vis.scales['x'].domain = DataRef(data='table', field='data.x')\n",
      "vis.scales['x'].to_json(pretty_print=False)"
     ],
     "language": "python",
     "metadata": {},
     "outputs": [
      {
       "output_type": "pyout",
       "prompt_number": 62,
       "text": [
        "'{\"range\": \"width\", \"type\": \"ordinal\", \"name\": \"x\", \"domain\": {\"field\": \"data.x\", \"data\": \"table\"}}'"
       ]
      }
     ],
     "prompt_number": 62
    },
    {
     "cell_type": "markdown",
     "metadata": {},
     "source": [
      "Our x-data is ordinal (since it's letters), but our y-data is quantitative. If the `type` property is undefined, Vega defaults to a `linear` type."
     ]
    },
    {
     "cell_type": "code",
     "collapsed": false,
     "input": [
      "vis.scales.append(Scale(name='y', range='height', nice=True, domain=DataRef(data='table', field='data.y')))"
     ],
     "language": "python",
     "metadata": {},
     "outputs": [],
     "prompt_number": 63
    },
    {
     "cell_type": "markdown",
     "metadata": {},
     "source": [
      "Now let's add some axes to define the visualization space."
     ]
    },
    {
     "cell_type": "heading",
     "level": 2,
     "metadata": {},
     "source": [
      "Axes"
     ]
    },
    {
     "cell_type": "markdown",
     "metadata": {},
     "source": [
      "Axes provide a guide for translating spatial relationships about data. They are defined, naturally, by the `Axis` class."
     ]
    },
    {
     "cell_type": "code",
     "collapsed": false,
     "input": [
      "vis.axes.extend([Axis(type='x', scale='x'), Axis(type='y', scale='y')])"
     ],
     "language": "python",
     "metadata": {},
     "outputs": [],
     "prompt_number": 64
    },
    {
     "cell_type": "markdown",
     "metadata": {},
     "source": [
      "While Vega generally doesn't care if we label our data `'x'` or `'y'` (as opposed to, say, `'time'`), the axes are the exception. Here, `'x'` is always used to refer to the horizontal axis, while `'y'` refers to the vertical axis. Also note that while the `data` and `scales` properties are keyed according to the `name` property of their contents, the `axes` property is keyed according to the `type` property."
     ]
    },
    {
     "cell_type": "heading",
     "level": 2,
     "metadata": {},
     "source": [
      "Marks"
     ]
    },
    {
     "cell_type": "markdown",
     "metadata": {},
     "source": [
      "Marks are the most fundamental part of the visualization; they're what the viewer sees. All marks in Vega have a `type`, such as `line`, `rect`, ect. To add the bars to our bar chart, we add `rect` marks:"
     ]
    },
    {
     "cell_type": "code",
     "collapsed": false,
     "input": [
      "bars = Mark(type='rect')"
     ],
     "language": "python",
     "metadata": {},
     "outputs": [],
     "prompt_number": 65
    },
    {
     "cell_type": "markdown",
     "metadata": {},
     "source": [
      "We define the data set the Marks represent by assigning the `from_` property to a `MarkRef`:"
     ]
    },
    {
     "cell_type": "code",
     "collapsed": false,
     "input": [
      "bars.from_ = MarkRef(data='table')"
     ],
     "language": "python",
     "metadata": {},
     "outputs": [],
     "prompt_number": 66
    },
    {
     "cell_type": "markdown",
     "metadata": {},
     "source": [
      "Though `from_` is used for the property name - `from` would be invalid Python syntax - the JSON field is still `\"from\"`:"
     ]
    },
    {
     "cell_type": "code",
     "collapsed": false,
     "input": [
      "bars.to_json(pretty_print=False)"
     ],
     "language": "python",
     "metadata": {},
     "outputs": [
      {
       "output_type": "pyout",
       "prompt_number": 67,
       "text": [
        "'{\"from\": {\"data\": \"table\"}, \"type\": \"rect\"}'"
       ]
      }
     ],
     "prompt_number": 67
    },
    {
     "cell_type": "markdown",
     "metadata": {},
     "source": [
      "The appearance of the marks are determined by the `properties` property. The `properties` is set to a `MarkProperties` object that has `enter`, `exit`, `hover`, and `update`, which correspond to different events that may alter the mark's appearance. Each property of the `MarkProperties` object can be set to a `PropertySet` class that specifies the appearance details, such as color, stroke, etc.. Finally, each property of PropertySet is set to a `ValueRef` class. The `ValueRef`s link the details of the mark's appearance to the data via the scales.\n",
      "\n",
      "This might sound a bit complicated, because it is. Maintaining the flexibility of something like a visualization grammar requires multiple levels of abstraction. "
     ]
    },
    {
     "cell_type": "code",
     "collapsed": false,
     "input": [
      "bars.properties = MarkProperties()\n",
      "bars.properties.enter = PropertySet()\n",
      "\n",
      "# Set the x-location of the bars to the data's x field, mapped through the x scale.\n",
      "bars.properties.enter.x = ValueRef(scale='x', field='data.x')\n",
      "# Use \"band\" to set the width of the bars to be flush against one another, minus a 1-pixel offset.\n",
      "bars.properties.enter.width = ValueRef(scale='x', band=True, offset=-1)\n",
      "# Set the height of the bars to the data's y field, mapped through the y scale.\n",
      "bars.properties.enter.y = ValueRef(scale='y', field='data.y')\n",
      "# Set the bottom of the bars to the x-axis.\n",
      "bars.properties.enter.y2 = ValueRef(scale='y', value=0)\n",
      "\n",
      "bars.properties.update = PropertySet()\n",
      "# On the \"update\" event (see the Vega docs for details), set the color of the bars to \"steelblue\".\n",
      "bars.properties.update.fill = ValueRef(value='steelblue')\n",
      "# On the \"hover\" event, set the color of the bars to \"red\".\n",
      "bars.properties.hover = PropertySet()\n",
      "bars.properties.hover.fill = ValueRef(value='red')"
     ],
     "language": "python",
     "metadata": {},
     "outputs": [],
     "prompt_number": 68
    },
    {
     "cell_type": "markdown",
     "metadata": {},
     "source": [
      "As one might imagine, some fairly complex, dynamic marks can be defined. Use your imagination.\n",
      "\n",
      "Now adding the marks to the visualization,"
     ]
    },
    {
     "cell_type": "code",
     "collapsed": false,
     "input": [
      "vis.marks.append(bars)"
     ],
     "language": "python",
     "metadata": {},
     "outputs": [],
     "prompt_number": 70
    },
    {
     "cell_type": "code",
     "collapsed": false,
     "input": [
      "vis.display()"
     ],
     "language": "python",
     "metadata": {},
     "outputs": [
      {
       "html": [
        "<script src=\"http://trifacta.github.com/vega/d3.v3.min.js\"></script>"
       ],
       "output_type": "display_data",
       "text": [
        "<IPython.core.display.HTML at 0x105ba1f50>"
       ]
      },
      {
       "html": [
        "<script src=\"http://trifacta.github.com/vega/vega.js\"></script>"
       ],
       "output_type": "display_data",
       "text": [
        "<IPython.core.display.HTML at 0x105ba1f50>"
       ]
      },
      {
       "html": [
        "<div id=\"vis7745\"></div>"
       ],
       "output_type": "display_data",
       "text": [
        "<IPython.core.display.HTML at 0x105ba1f90>"
       ]
      },
      {
       "javascript": [
        "vg.parse.spec({\"scales\": [{\"range\": \"width\", \"type\": \"ordinal\", \"name\": \"x\", \"domain\": {\"field\": \"data.x\", \"data\": \"table\"}}, {\"domain\": {\"field\": \"data.y\", \"data\": \"table\"}, \"range\": \"height\", \"name\": \"y\", \"nice\": true}], \"axes\": [{\"scale\": \"x\", \"type\": \"x\"}, {\"scale\": \"y\", \"type\": \"y\"}], \"height\": 200, \"padding\": {\"top\": 10, \"bottom\": 20, \"right\": 10, \"left\": 30}, \"width\": 400, \"marks\": [{\"from\": {\"data\": \"table\"}, \"type\": \"rect\", \"properties\": {\"hover\": {\"fill\": {\"value\": \"red\"}}, \"update\": {\"fill\": {\"value\": \"steelblue\"}}, \"enter\": {\"y\": {\"field\": \"data.y\", \"scale\": \"y\"}, \"x\": {\"field\": \"data.x\", \"scale\": \"x\"}, \"y2\": {\"scale\": \"y\", \"value\": 0}, \"width\": {\"band\": true, \"scale\": \"x\", \"offset\": -1}}}}], \"data\": [{\"values\": [{\"y\": 28, \"x\": \"A\"}, {\"y\": 55, \"x\": \"B\"}, {\"y\": 43, \"x\": \"C\"}, {\"y\": 91, \"x\": \"D\"}, {\"y\": 81, \"x\": \"E\"}, {\"y\": 53, \"x\": \"F\"}, {\"y\": 19, \"x\": \"G\"}, {\"y\": 87, \"x\": \"H\"}, {\"y\": 52, \"x\": \"I\"}], \"name\": \"table\"}]}, function(chart) { chart({el:\"#vis7745\"}).update(); });"
       ],
       "output_type": "display_data",
       "text": [
        "<IPython.core.display.Javascript at 0x105ba1f10>"
       ]
      }
     ],
     "prompt_number": 71
    },
    {
     "cell_type": "markdown",
     "metadata": {},
     "source": [
      "Once the visualization is defined, it's fairly easy to change it's properties. For instance, the bright-red hover is a little distracting. Let's make it gray. Let's also make the chart fat."
     ]
    },
    {
     "cell_type": "code",
     "collapsed": false,
     "input": [
      "vis.marks[0].properties.hover.fill.value = 'gray'\n",
      "vis.width = 800\n",
      "vis.display()"
     ],
     "language": "python",
     "metadata": {},
     "outputs": [
      {
       "html": [
        "<script src=\"http://trifacta.github.com/vega/d3.v3.min.js\"></script>"
       ],
       "output_type": "display_data",
       "text": [
        "<IPython.core.display.HTML at 0x105b52110>"
       ]
      },
      {
       "html": [
        "<script src=\"http://trifacta.github.com/vega/vega.js\"></script>"
       ],
       "output_type": "display_data",
       "text": [
        "<IPython.core.display.HTML at 0x105b52110>"
       ]
      },
      {
       "html": [
        "<div id=\"vis46174\"></div>"
       ],
       "output_type": "display_data",
       "text": [
        "<IPython.core.display.HTML at 0x105b4e190>"
       ]
      },
      {
       "javascript": [
        "vg.parse.spec({\"scales\": [{\"range\": \"width\", \"type\": \"ordinal\", \"name\": \"x\", \"domain\": {\"field\": \"data.x\", \"data\": \"table\"}}, {\"domain\": {\"field\": \"data.y\", \"data\": \"table\"}, \"range\": \"height\", \"name\": \"y\", \"nice\": true}], \"axes\": [{\"scale\": \"x\", \"type\": \"x\"}, {\"scale\": \"y\", \"type\": \"y\"}], \"height\": 200, \"padding\": {\"top\": 10, \"bottom\": 20, \"right\": 10, \"left\": 30}, \"width\": 800, \"marks\": [{\"from\": {\"data\": \"table\"}, \"type\": \"rect\", \"properties\": {\"hover\": {\"fill\": {\"value\": \"gray\"}}, \"update\": {\"fill\": {\"value\": \"steelblue\"}}, \"enter\": {\"y\": {\"field\": \"data.y\", \"scale\": \"y\"}, \"x\": {\"field\": \"data.x\", \"scale\": \"x\"}, \"y2\": {\"scale\": \"y\", \"value\": 0}, \"width\": {\"band\": true, \"scale\": \"x\", \"offset\": -1}}}}], \"data\": [{\"values\": [{\"y\": 28, \"x\": \"A\"}, {\"y\": 55, \"x\": \"B\"}, {\"y\": 43, \"x\": \"C\"}, {\"y\": 91, \"x\": \"D\"}, {\"y\": 81, \"x\": \"E\"}, {\"y\": 53, \"x\": \"F\"}, {\"y\": 19, \"x\": \"G\"}, {\"y\": 87, \"x\": \"H\"}, {\"y\": 52, \"x\": \"I\"}], \"name\": \"table\"}]}, function(chart) { chart({el:\"#vis46174\"}).update(); });"
       ],
       "output_type": "display_data",
       "text": [
        "<IPython.core.display.Javascript at 0x105b52090>"
       ]
      }
     ],
     "prompt_number": 77
    },
    {
     "cell_type": "code",
     "collapsed": false,
     "input": [],
     "language": "python",
     "metadata": {},
     "outputs": [],
     "prompt_number": 76
    },
    {
     "cell_type": "code",
     "collapsed": false,
     "input": [],
     "language": "python",
     "metadata": {},
     "outputs": []
    }
   ],
   "metadata": {}
  }
 ]
}