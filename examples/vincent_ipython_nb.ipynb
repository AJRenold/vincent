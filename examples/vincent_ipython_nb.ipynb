{
 "metadata": {
  "name": "vincent_ipython_nb"
 },
 "nbformat": 3,
 "nbformat_minor": 0,
 "worksheets": [
  {
   "cells": [
    {
     "cell_type": "code",
     "collapsed": false,
     "input": [
      "import vincent\n",
      "import vincent.ipynb\n",
      "import random\n",
      "vincent.ipynb.init_d3()\n",
      "vincent.ipynb.init_vg()\n",
      "vis = vincent.Bar()\n",
      "vis.tabular_data((('A', 28), ('B', 55), ('C', 43), ('D', 91), ('E', 81)))\n",
      "vincent.ipynb.display_vega(vis)"
     ],
     "language": "python",
     "metadata": {},
     "outputs": [
      {
       "html": [
        "<script src=\"http://trifacta.github.com/vega/d3.v3.min.js\"></script>"
       ],
       "output_type": "display_data",
       "text": [
        "<IPython.core.display.HTML at 0x104cd0050>"
       ]
      },
      {
       "html": [
        "<script src=\"http://trifacta.github.com/vega/vega.js\"></script>"
       ],
       "output_type": "display_data",
       "text": [
        "<IPython.core.display.HTML at 0x104cd02d0>"
       ]
      },
      {
       "html": [
        "<div id=\"vis62114\"></div>"
       ],
       "output_type": "display_data",
       "text": [
        "<IPython.core.display.HTML at 0x104cd0310>"
       ]
      },
      {
       "javascript": [
        "vg.parse.spec({\"scales\": [{\"range\": \"width\", \"type\": \"ordinal\", \"name\": \"x\", \"domain\": {\"field\": \"data.x\", \"data\": \"table\"}}, {\"range\": \"height\", \"name\": \"y\", \"domain\": {\"field\": \"data.y\", \"data\": \"table\"}, \"nice\": true}], \"axes\": [{\"scale\": \"x\", \"type\": \"x\"}, {\"scale\": \"y\", \"type\": \"y\"}], \"height\": 200, \"padding\": {\"top\": 10, \"bottom\": 20, \"right\": 20, \"left\": 30}, \"width\": 400, \"marks\": [{\"from\": {\"data\": \"table\"}, \"type\": \"rect\", \"properties\": {\"hover\": {\"fill\": {\"value\": \"#a63737\"}}, \"update\": {\"fill\": {\"value\": \"#2a3140\"}}, \"enter\": {\"y\": {\"field\": \"data.y\", \"scale\": \"y\"}, \"x\": {\"field\": \"data.x\", \"scale\": \"x\"}, \"y2\": {\"scale\": \"y\", \"value\": 0}, \"width\": {\"band\": true, \"scale\": \"x\", \"offset\": -1}}}}], \"data\": [{\"values\": [{\"y\": 28, \"x\": \"A\"}, {\"y\": 55, \"x\": \"B\"}, {\"y\": 43, \"x\": \"C\"}, {\"y\": 91, \"x\": \"D\"}, {\"y\": 81, \"x\": \"E\"}], \"name\": \"table\"}], \"viewport\": null}, function(chart)\n",
        "                        { chart({el:\"#vis62114\"}).update(); });"
       ],
       "output_type": "display_data",
       "text": [
        "<IPython.core.display.Javascript at 0x104cd0450>"
       ]
      }
     ],
     "prompt_number": 2
    },
    {
     "cell_type": "code",
     "collapsed": false,
     "input": [
      "area = vincent.Area()\n",
      "area.tabular_data([random.randint(10, 100) for x in range(0, 16, 1)])\n",
      "area + ({'value': 'basis'}, 'marks', 0, 'properties', 'enter', 'interpolate')\n",
      "area.axis_label(x_label='X Axis Label', y_label='Y Axis Label', title='Title')\n",
      "vincent.ipynb.display_vega(area)"
     ],
     "language": "python",
     "metadata": {},
     "outputs": [
      {
       "html": [
        "<div id=\"vis35649\"></div>"
       ],
       "output_type": "display_data",
       "text": [
        "<IPython.core.display.HTML at 0x104cd04d0>"
       ]
      },
      {
       "javascript": [
        "vg.parse.spec({\"scales\": [{\"range\": \"width\", \"type\": \"linear\", \"name\": \"x\", \"domain\": {\"field\": \"data.x\", \"data\": \"table\"}}, {\"range\": \"height\", \"name\": \"y\", \"domain\": {\"field\": \"data.y\", \"data\": \"table\"}, \"nice\": true}], \"axes\": [{\"scale\": \"x\", \"type\": \"x\"}, {\"scale\": \"y\", \"type\": \"y\"}], \"height\": 200, \"padding\": {\"top\": 30, \"left\": 60, \"right\": 20, \"bottom\": 50}, \"width\": 400, \"marks\": [{\"from\": {\"data\": \"table\"}, \"type\": \"area\", \"properties\": {\"hover\": {\"fill\": {\"value\": \"#a63737\"}}, \"update\": {\"fill\": {\"value\": \"#2a3140\"}}, \"enter\": {\"y\": {\"field\": \"data.y\", \"scale\": \"y\"}, \"x\": {\"field\": \"data.x\", \"scale\": \"x\"}, \"y2\": {\"scale\": \"y\", \"value\": 0}}}}, {\"from\": {\"data\": \"x_label\"}, \"type\": \"text\", \"name\": \"x_label\", \"properties\": {\"enter\": {\"baseline\": {\"value\": \"middle\"}, \"text\": {\"field\": \"data.label\"}, \"align\": {\"value\": \"center\"}, \"fontSize\": {\"value\": 14}, \"dy\": {\"value\": 35}, \"y\": {\"value\": 200}, \"x\": {\"value\": 200.0}, \"font\": {\"value\": \"Helvetica Neue\"}, \"fill\": {\"value\": \"#000\"}}}}, {\"from\": {\"data\": \"y_label\"}, \"type\": \"text\", \"name\": \"y_label\", \"properties\": {\"enter\": {\"angle\": {\"value\": -90}, \"baseline\": {\"value\": \"middle\"}, \"text\": {\"field\": \"data.label\"}, \"align\": {\"value\": \"center\"}, \"fontSize\": {\"value\": 14}, \"dy\": {\"value\": -45}, \"y\": {\"value\": 100.0}, \"x\": {\"value\": 0}, \"font\": {\"value\": \"Helvetica Neue\"}, \"fill\": {\"value\": \"#000\"}}}}, {\"from\": {\"data\": \"title\"}, \"type\": \"text\", \"name\": \"title\", \"properties\": {\"enter\": {\"baseline\": {\"value\": \"middle\"}, \"text\": {\"field\": \"data.label\"}, \"align\": {\"value\": \"center\"}, \"fontSize\": {\"value\": 14}, \"dy\": {\"value\": -20}, \"y\": {\"value\": 0}, \"x\": {\"value\": 200.0}, \"font\": {\"value\": \"Helvetica Neue\"}, \"fill\": {\"value\": \"#000\"}}}}], \"data\": [{\"values\": [{\"y\": 65, \"x\": 0}, {\"y\": 59, \"x\": 1}, {\"y\": 42, \"x\": 2}, {\"y\": 45, \"x\": 3}, {\"y\": 38, \"x\": 4}, {\"y\": 73, \"x\": 5}, {\"y\": 23, \"x\": 6}, {\"y\": 53, \"x\": 7}, {\"y\": 72, \"x\": 8}, {\"y\": 12, \"x\": 9}, {\"y\": 81, \"x\": 10}, {\"y\": 26, \"x\": 11}, {\"y\": 59, \"x\": 12}, {\"y\": 94, \"x\": 13}, {\"y\": 43, \"x\": 14}, {\"y\": 93, \"x\": 15}], \"name\": \"table\"}, {\"values\": [{\"label\": \"X Axis Label\"}], \"name\": \"x_label\"}, {\"values\": [{\"label\": \"Y Axis Label\"}], \"name\": \"y_label\"}, {\"values\": [{\"label\": \"Title\"}], \"name\": \"title\"}], \"viewport\": null}, function(chart)\n",
        "                        { chart({el:\"#vis35649\"}).update(); });"
       ],
       "output_type": "display_data",
       "text": [
        "<IPython.core.display.Javascript at 0x104cd0390>"
       ]
      }
     ],
     "prompt_number": 3
    },
    {
     "cell_type": "code",
     "collapsed": false,
     "input": [],
     "language": "python",
     "metadata": {},
     "outputs": []
    }
   ],
   "metadata": {}
  }
 ]
}