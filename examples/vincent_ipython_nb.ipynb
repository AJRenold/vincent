{
 "metadata": {
  "name": "Vincent iPython Notebook"
 },
 "nbformat": 3,
 "nbformat_minor": 0,
 "worksheets": [
  {
   "cells": [
    {
     "cell_type": "code",
     "collapsed": false,
     "input": "import vincent\nimport random\nvincent.ipynb_init_d3()\nvincent.ipynb_init_vg()\nvis = vincent.Bar()\nvis.tabular_data((('A', 28), ('B', 55), ('C', 43), ('D', 91), ('E', 81)))\nvincent.ipynb_display(vis)",
     "language": "python",
     "metadata": {},
     "outputs": [
      {
       "html": "<script src=\"http://trifacta.github.com/vega/d3.v3.min.js\"></script>",
       "output_type": "display_data",
       "text": "<IPython.core.display.HTML at 0x104954b10>"
      },
      {
       "html": "<script src=\"http://trifacta.github.com/vega/vega.js\"></script>",
       "output_type": "display_data",
       "text": "<IPython.core.display.HTML at 0x104954b50>"
      },
      {
       "html": "<div id=\"vis10088\"></div>",
       "output_type": "display_data",
       "text": "<IPython.core.display.HTML at 0x10571c310>"
      },
      {
       "javascript": "vg.parse.spec({\"scales\": [{\"range\": \"width\", \"type\": \"ordinal\", \"name\": \"x\", \"domain\": {\"field\": \"data.x\", \"data\": \"table\"}}, {\"range\": \"height\", \"name\": \"y\", \"domain\": {\"field\": \"data.y\", \"data\": \"table\"}, \"nice\": true}], \"axes\": [{\"scale\": \"x\", \"type\": \"x\"}, {\"scale\": \"y\", \"type\": \"y\"}], \"height\": 200, \"padding\": {\"top\": 10, \"bottom\": 20, \"right\": 20, \"left\": 30}, \"width\": 400, \"marks\": [{\"from\": {\"data\": \"table\"}, \"type\": \"rect\", \"properties\": {\"hover\": {\"fill\": {\"value\": \"#a63737\"}}, \"update\": {\"fill\": {\"value\": \"#2a3140\"}}, \"enter\": {\"y\": {\"field\": \"data.y\", \"scale\": \"y\"}, \"x\": {\"field\": \"data.x\", \"scale\": \"x\"}, \"y2\": {\"scale\": \"y\", \"value\": 0}, \"width\": {\"band\": true, \"scale\": \"x\", \"offset\": -1}}}}], \"data\": [{\"values\": [{\"y\": 28, \"x\": \"A\"}, {\"y\": 55, \"x\": \"B\"}, {\"y\": 43, \"x\": \"C\"}, {\"y\": 91, \"x\": \"D\"}, {\"y\": 81, \"x\": \"E\"}], \"name\": \"table\"}], \"viewport\": null}, function(chart)\n                        { chart({el:\"#vis10088\"}).update(); });",
       "output_type": "display_data",
       "text": "<IPython.core.display.Javascript at 0x10571c850>"
      }
     ],
     "prompt_number": 13
    },
    {
     "cell_type": "code",
     "collapsed": false,
     "input": "area = vincent.Area()\narea.tabular_data([random.randint(10, 100) for x in range(0, 16, 1)])\narea + ({'value': 'basis'}, 'marks', 0, 'properties', 'enter', 'interpolate')\narea.axis_label(x_label='X Axis Label', y_label='Y Axis Label', title='Title')\nvincent.ipynb_display(area)",
     "language": "python",
     "metadata": {},
     "outputs": [
      {
       "html": "<div id=\"vis6389\"></div>",
       "output_type": "display_data",
       "text": "<IPython.core.display.HTML at 0x10571c610>"
      },
      {
       "javascript": "vg.parse.spec({\"scales\": [{\"range\": \"width\", \"type\": \"linear\", \"name\": \"x\", \"domain\": {\"field\": \"data.x\", \"data\": \"table\"}}, {\"range\": \"height\", \"name\": \"y\", \"domain\": {\"field\": \"data.y\", \"data\": \"table\"}, \"nice\": true}], \"axes\": [{\"scale\": \"x\", \"type\": \"x\"}, {\"scale\": \"y\", \"type\": \"y\"}], \"height\": 200, \"padding\": {\"top\": 30, \"left\": 60, \"right\": 20, \"bottom\": 50}, \"width\": 400, \"marks\": [{\"from\": {\"data\": \"table\"}, \"type\": \"area\", \"properties\": {\"hover\": {\"fill\": {\"value\": \"#a63737\"}}, \"update\": {\"fill\": {\"value\": \"#2a3140\"}}, \"enter\": {\"y\": {\"field\": \"data.y\", \"scale\": \"y\"}, \"x\": {\"field\": \"data.x\", \"scale\": \"x\"}, \"y2\": {\"scale\": \"y\", \"value\": 0}, \"interpolate\": {\"value\": \"basis\"}}}}, {\"from\": {\"data\": \"x_label\"}, \"type\": \"text\", \"name\": \"x_label\", \"properties\": {\"enter\": {\"baseline\": {\"value\": \"middle\"}, \"text\": {\"field\": \"data.label\"}, \"align\": {\"value\": \"center\"}, \"fontSize\": {\"value\": 14}, \"dy\": {\"value\": 35}, \"y\": {\"value\": 200}, \"x\": {\"value\": 200.0}, \"font\": {\"value\": \"Helvetica Neue\"}, \"fill\": {\"value\": \"#000\"}}}}, {\"from\": {\"data\": \"y_label\"}, \"type\": \"text\", \"name\": \"y_label\", \"properties\": {\"enter\": {\"angle\": {\"value\": -90}, \"baseline\": {\"value\": \"middle\"}, \"text\": {\"field\": \"data.label\"}, \"align\": {\"value\": \"center\"}, \"fontSize\": {\"value\": 14}, \"dy\": {\"value\": -45}, \"y\": {\"value\": 100.0}, \"x\": {\"value\": 0}, \"font\": {\"value\": \"Helvetica Neue\"}, \"fill\": {\"value\": \"#000\"}}}}, {\"from\": {\"data\": \"title\"}, \"type\": \"text\", \"name\": \"title\", \"properties\": {\"enter\": {\"baseline\": {\"value\": \"middle\"}, \"text\": {\"field\": \"data.label\"}, \"align\": {\"value\": \"center\"}, \"fontSize\": {\"value\": 14}, \"dy\": {\"value\": -20}, \"y\": {\"value\": 0}, \"x\": {\"value\": 200.0}, \"font\": {\"value\": \"Helvetica Neue\"}, \"fill\": {\"value\": \"#000\"}}}}], \"data\": [{\"values\": [{\"y\": 73, \"x\": 0}, {\"y\": 82, \"x\": 1}, {\"y\": 58, \"x\": 2}, {\"y\": 67, \"x\": 3}, {\"y\": 31, \"x\": 4}, {\"y\": 12, \"x\": 5}, {\"y\": 72, \"x\": 6}, {\"y\": 15, \"x\": 7}, {\"y\": 86, \"x\": 8}, {\"y\": 73, \"x\": 9}, {\"y\": 14, \"x\": 10}, {\"y\": 11, \"x\": 11}, {\"y\": 37, \"x\": 12}, {\"y\": 95, \"x\": 13}, {\"y\": 88, \"x\": 14}, {\"y\": 90, \"x\": 15}], \"name\": \"table\"}, {\"values\": [{\"label\": \"X Axis Label\"}], \"name\": \"x_label\"}, {\"values\": [{\"label\": \"Y Axis Label\"}], \"name\": \"y_label\"}, {\"values\": [{\"label\": \"Title\"}], \"name\": \"title\"}], \"viewport\": null}, function(chart)\n                        { chart({el:\"#vis6389\"}).update(); });",
       "output_type": "display_data",
       "text": "<IPython.core.display.Javascript at 0x10571c490>"
      }
     ],
     "prompt_number": 11
    },
    {
     "cell_type": "code",
     "collapsed": false,
     "input": "",
     "language": "python",
     "metadata": {},
     "outputs": []
    }
   ],
   "metadata": {}
  }
 ]
}